{
 "cells": [
  {
   "cell_type": "markdown",
   "metadata": {},
   "source": [
    "# \"Single-nucleus Multiomic Atlas of Frontal Cortex in ALS: A Deep Learning Approach\"\n",
    "\n",
    "This Jupyter notebook is dedicated to reproducing results from the paper:\n",
    "\n",
    "> \"Single-nucleus Multiomic Atlas of Frontal Cortex in Amyotrophic Lateral Sclerosis with a Deep Learning-based Decoding of Alternative Polyadenylation Mechanisms\" by Paul M. Mckeever and Aiden M. Sababi (2023).\n",
    "\n",
    "The paper presents a comprehensive analysis of single-nucleus multiomics in the context of amyotrophic lateral sclerosis (ALS), focusing on alternative polyadenylation mechanisms using deep learning techniques.\n",
    "\n",
    "The primary objective of this notebook is to replicate key analysis steps in the study, providing a transparent and reproducible path for validation and further exploration.\n",
    "\n",
    "The paper can be found [here](https://www.biorxiv.org/content/10.1101/2023.12.22.573083v1.full).\n"
   ]
  },
  {
   "cell_type": "markdown",
   "metadata": {},
   "source": [
    "# MAAPER analysis"
   ]
  },
  {
   "cell_type": "code",
   "execution_count": 14,
   "metadata": {},
   "outputs": [],
   "source": [
    "library(ggplot2)\n",
    "library(dplyr)\n",
    "library(stringr)\n",
    "library(ggplot2)\n",
    "library(tidyverse)\n",
    "library(parallel)\n",
    "library(MAAPER)"
   ]
  },
  {
   "cell_type": "code",
   "execution_count": 2,
   "metadata": {},
   "outputs": [],
   "source": [
    "bam_root <- '/data1/APA/Paul_ALS_Data/celltype_sample_bams/'\n",
    "setwd(bam_root)\n",
    "\n",
    "reference.gtf <- '/home/aiden/data/refgenome/refdata-gex-GRCh38-2020-A/genes/genes.gtf'\n",
    "apa_atlas <- readRDS('/data1/APA/Paul_ALS_Data/bams_in/subscelltype_bamfiles/human.PAS.hg38.rds')\n",
    "outdir <- \"/data1/APA/Paul_ALS_Data/Mapper_outs_2024\"\n",
    "\n",
    "\n",
    "call_mapper <- function(path, c1, c2){\n",
    "    outdir <- \"/data1/APA/Paul_ALS_Data/Mapper_outs_2024\"\n",
    "    map_out <- paste0(outdir,\"/\", path)\n",
    "    maaper(reference.gtf, apa_atlas, bam_c1=c1, bam_c2=c2, \n",
    "          output_dir=map_out, read_len=91, ncores=28, bed=TRUE)\n",
    "\n",
    "}"
   ]
  },
  {
   "cell_type": "code",
   "execution_count": 16,
   "metadata": {},
   "outputs": [],
   "source": [
    "\n",
    "bamfiles = list.files('/data1/APA/Paul_ALS_Data/celltype_sample_bams/Oligo/', pattern = \"*.bam$\")\n",
    "control_bams <- as.vector(paste0(bam_root,\"Oligo/\",bamfiles[which(startsWith(bamfiles, \"CTRL\"))]))\n",
    "C9ALS_bams <- as.vector(paste0(bam_root,\"Oligo/\",bamfiles[which(startsWith(bamfiles, \"C9ALS\"))]))\n",
    "sALS_bams <- as.vector(paste0(bam_root,\"Oligo/\",bamfiles[which(startsWith(bamfiles, \"sALS\"))]))\n"
   ]
  },
  {
   "cell_type": "code",
   "execution_count": 17,
   "metadata": {},
   "outputs": [
    {
     "name": "stderr",
     "output_type": "stream",
     "text": [
      "Prepare reference genome ...\n",
      "\n",
      "Import genomic features from the file as a GRanges object ... \n",
      "OK\n",
      "\n",
      "Prepare the 'metadata' data frame ... \n",
      "OK\n",
      "\n",
      "Make the TxDb object ... \n",
      "Warning message in .get_cds_IDX(mcols0$type, mcols0$phase):\n",
      "“The \"phase\" metadata column contains non-NA values for features of type\n",
      "  stop_codon. This information was ignored.”\n",
      "OK\n",
      "\n",
      "Sequence levels in GTF:\n",
      "\n"
     ]
    },
    {
     "name": "stdout",
     "output_type": "stream",
     "text": [
      " [1] \"chr1\"  \"chr2\"  \"chr3\"  \"chr4\"  \"chr5\"  \"chr6\"  \"chr7\"  \"chr8\"  \"chr9\" \n",
      "[10] \"chr10\" \"chr11\" \"chr12\" \"chr13\" \"chr14\" \"chr15\" \"chr16\" \"chr17\" \"chr18\"\n",
      "[19] \"chr19\" \"chr20\" \"chr21\" \"chr22\" \"chrX\"  \"chrY\"  \"chrM\" \n"
     ]
    },
    {
     "name": "stderr",
     "output_type": "stream",
     "text": [
      "Prepare PAS annotation ...\n",
      "\n",
      "16707 genes!\n",
      "\n",
      "Start training for condition c1 - sample 1 ...\n",
      "\n",
      "223 genes used for training ...\n",
      "\n",
      "0.3308 fragments longer than 600 ...\n",
      "\n",
      "Start training for condition c1 - sample 2 ...\n",
      "\n",
      "299 genes used for training ...\n",
      "\n",
      "0.3654 fragments longer than 600 ...\n",
      "\n",
      "Start training for condition c1 - sample 3 ...\n",
      "\n",
      "180 genes used for training ...\n",
      "\n",
      "0.2614 fragments longer than 600 ...\n",
      "\n",
      "Start training for condition c1 - sample 4 ...\n",
      "\n",
      "321 genes used for training ...\n",
      "\n",
      "0.3365 fragments longer than 600 ...\n",
      "\n",
      "Start training for condition c1 - sample 5 ...\n",
      "\n",
      "207 genes used for training ...\n",
      "\n",
      "0.2311 fragments longer than 600 ...\n",
      "\n",
      "Start training for condition c1 - sample 6 ...\n",
      "\n",
      "253 genes used for training ...\n",
      "\n",
      "0.2008 fragments longer than 600 ...\n",
      "\n",
      "Start training for condition c2 - sample 1 ...\n",
      "\n",
      "105 genes used for training ...\n",
      "\n",
      "0.1641 fragments longer than 600 ...\n",
      "\n",
      "Start training for condition c2 - sample 2 ...\n",
      "\n",
      "139 genes used for training ...\n",
      "\n",
      "0.1821 fragments longer than 600 ...\n",
      "\n",
      "Start training for condition c2 - sample 3 ...\n",
      "\n",
      "354 genes used for training ...\n",
      "\n",
      "0.3032 fragments longer than 600 ...\n",
      "\n",
      "Start training for condition c2 - sample 4 ...\n",
      "\n",
      "253 genes used for training ...\n",
      "\n",
      "0.132 fragments longer than 600 ...\n",
      "\n",
      "Start training for condition c2 - sample 5 ...\n",
      "\n",
      "142 genes used for training ...\n",
      "\n",
      "0.3412 fragments longer than 600 ...\n",
      "\n",
      "Start training for condition c2 - sample 6 ...\n",
      "\n",
      "134 genes used for training ...\n",
      "\n",
      "0.3255 fragments longer than 600 ...\n",
      "\n",
      "Calculate APA events ...\n",
      "\n"
     ]
    },
    {
     "name": "stdout",
     "output_type": "stream",
     "text": [
      "[1] FALSE\n"
     ]
    },
    {
     "name": "stderr",
     "output_type": "stream",
     "text": [
      "Writing results for 11705 genes ...\n",
      "\n",
      "Writing BED for 11705 genes ...\n",
      "\n"
     ]
    },
    {
     "data": {
      "text/html": [
       "0"
      ],
      "text/latex": [
       "0"
      ],
      "text/markdown": [
       "0"
      ],
      "text/plain": [
       "[1] 0"
      ]
     },
     "metadata": {},
     "output_type": "display_data"
    }
   ],
   "source": [
    "call_mapper(\"Oligo_C9ALSvsCTRL\",control_bams, C9ALS_bams)"
   ]
  },
  {
   "cell_type": "code",
   "execution_count": null,
   "metadata": {},
   "outputs": [
    {
     "name": "stderr",
     "output_type": "stream",
     "text": [
      "Prepare reference genome ...\n",
      "\n",
      "Import genomic features from the file as a GRanges object ... \n",
      "OK\n",
      "\n",
      "Prepare the 'metadata' data frame ... \n",
      "OK\n",
      "\n",
      "Make the TxDb object ... \n",
      "Warning message in .get_cds_IDX(mcols0$type, mcols0$phase):\n",
      "“The \"phase\" metadata column contains non-NA values for features of type\n",
      "  stop_codon. This information was ignored.”\n",
      "OK\n",
      "\n",
      "Sequence levels in GTF:\n",
      "\n"
     ]
    },
    {
     "name": "stdout",
     "output_type": "stream",
     "text": [
      " [1] \"chr1\"  \"chr2\"  \"chr3\"  \"chr4\"  \"chr5\"  \"chr6\"  \"chr7\"  \"chr8\"  \"chr9\" \n",
      "[10] \"chr10\" \"chr11\" \"chr12\" \"chr13\" \"chr14\" \"chr15\" \"chr16\" \"chr17\" \"chr18\"\n",
      "[19] \"chr19\" \"chr20\" \"chr21\" \"chr22\" \"chrX\"  \"chrY\"  \"chrM\" \n"
     ]
    },
    {
     "name": "stderr",
     "output_type": "stream",
     "text": [
      "Prepare PAS annotation ...\n",
      "\n",
      "16707 genes!\n",
      "\n",
      "Start training for condition c1 - sample 1 ...\n",
      "\n",
      "223 genes used for training ...\n",
      "\n",
      "0.3308 fragments longer than 600 ...\n",
      "\n",
      "Start training for condition c1 - sample 2 ...\n",
      "\n",
      "299 genes used for training ...\n",
      "\n",
      "0.3654 fragments longer than 600 ...\n",
      "\n",
      "Start training for condition c1 - sample 3 ...\n",
      "\n",
      "180 genes used for training ...\n",
      "\n",
      "0.2614 fragments longer than 600 ...\n",
      "\n",
      "Start training for condition c1 - sample 4 ...\n",
      "\n",
      "321 genes used for training ...\n",
      "\n",
      "0.3365 fragments longer than 600 ...\n",
      "\n",
      "Start training for condition c1 - sample 5 ...\n",
      "\n",
      "207 genes used for training ...\n",
      "\n",
      "0.2311 fragments longer than 600 ...\n",
      "\n",
      "Start training for condition c1 - sample 6 ...\n",
      "\n",
      "253 genes used for training ...\n",
      "\n",
      "0.2008 fragments longer than 600 ...\n",
      "\n",
      "Start training for condition c2 - sample 1 ...\n",
      "\n",
      "260 genes used for training ...\n",
      "\n",
      "0.2021 fragments longer than 600 ...\n",
      "\n",
      "Start training for condition c2 - sample 2 ...\n",
      "\n",
      "235 genes used for training ...\n",
      "\n",
      "0.2337 fragments longer than 600 ...\n",
      "\n",
      "Start training for condition c2 - sample 3 ...\n",
      "\n",
      "131 genes used for training ...\n",
      "\n",
      "0.1804 fragments longer than 600 ...\n",
      "\n",
      "Start training for condition c2 - sample 4 ...\n",
      "\n",
      "48 genes used for training ...\n",
      "\n",
      "0.1637 fragments longer than 600 ...\n",
      "\n",
      "Calculate APA events ...\n",
      "\n"
     ]
    }
   ],
   "source": [
    "call_mapper(\"Oligo_sALSvsCTRL\",control_bams,sALS_bams)"
   ]
  },
  {
   "cell_type": "markdown",
   "metadata": {},
   "source": [
    "## Same goes for all the cell types"
   ]
  },
  {
   "cell_type": "markdown",
   "metadata": {},
   "source": [
    "# APAlog\n",
    "> we used the [APAlog](https://github.com/goodarzilab/APAlog) package to delve deeper into differential poly(A) site usage patterns. APAlog operates on the normalized counts of reads mapped to each poly(A) site to assess the extent and nature of differential usage. For a comprehensive comparison, APAlog was run in Pairwise Test mode, which enables the comparison of all possible pairs of poly(A) sites per transcript"
   ]
  },
  {
   "cell_type": "code",
   "execution_count": null,
   "metadata": {},
   "outputs": [],
   "source": [
    "library(dplyr)\n",
    "library(tidyverse)\n",
    "library(APAlog)\n",
    "library(parallel)"
   ]
  },
  {
   "cell_type": "code",
   "execution_count": null,
   "metadata": {},
   "outputs": [],
   "source": [
    "volcano_plot_2 <- function(fit, x, xlab = \"Ln fold change\", y, ylab = \"-Log10 FDR\",\n",
    "    title = \"\", titleLabSize = 12, border = \"full\",\n",
    "    pCutoff = 0.01, FCcutoff = 1, xlim = c(-5, 5), ylim = c(0, 10), pointsize= .2, top_n) {\n",
    "\n",
    "    if (! x %in% names(fit)){\n",
    "        stop(print(paste('The column', x, 'does not exist in the given dataframe.')))\n",
    "    }\n",
    "\n",
    "    if (! y %in% names(fit)){\n",
    "        stop(print(paste('The column', y, 'does not exist in the given dataframe.')))\n",
    "    }\n",
    "\n",
    "    return(EnhancedVolcano::EnhancedVolcano(fit, lab = fit['transcript'], selectLab=top_n, x=x, xlab=xlab, y=y, ylab=ylab, title=title,\n",
    "    titleLabSize=titleLabSize, border=border, pCutoff=pCutoff, FCcutoff=FCcutoff, xlim=xlim, ylim=ylim, pointSize=pointsize))\n",
    "}\n",
    "\n",
    "\n",
    "## do this for for all the celltypes and conditions\n",
    "run_APAlog <- function(ct) {\n",
    "    ## read in and process the count dataframe\n",
    "    inp_df <- read.csv(paste0(root_dir,ct,\"/APAlog_pas_count_input.txt\"), sep='\\t')\n",
    "    inp_df <- inp_df[, c(1,2,10,11)]\n",
    "    colnames(inp_df) <- c('transcript', 'pA.site','sample','count')\n",
    "    inp_df[sapply(inp_df, is.character)] <- lapply(inp_df[sapply(inp_df, is.character)], as.factor)\n",
    "    ## make the design table\n",
    "    design_table <- data.frame(sample=c('ALS', 'CTRL'),\n",
    "                           Condition=c('ALS_pathology','Control'))\n",
    "    design_table$sample <- factor(design_table$sample, levels=c('CTRL', 'ALS'))\n",
    "    design_table$Condition <- factor(design_table$Condition, levels=c('Control', 'ALS_pathology'))\n",
    "    \n",
    "    ## run the APAlog in overal mode\n",
    "    fit.o_test <- APAlog::pA_logit_dev(inp_df,\n",
    "                                     pA.site ~ Condition,\n",
    "                                     design_table,\n",
    "                                     \"sample\",  \n",
    "                                     adj_method = \"fdr\")\n",
    "    ## run the APAlog in pairwise mode\n",
    "    fit.p_test <- APAlog::pA_logit_pairwise(inp_df, pA.site~Condition, design_table, \"sample\")\n",
    "    \n",
    "    ## merge the dataframes\n",
    "    fit.op_test <- merge(fit.o_test, fit.p_test, by = \"transcript\")\n",
    "    \n",
    "    outname <- paste0(root_dir,ct,\"/APAlog_res.tsv\")\n",
    "    write.table(fit.op_test, file=outname, quote=F, sep='\\t', row.names = F)\n",
    "    \n",
    "}\n",
    "\n",
    "\n",
    "### adding needed extra informatio to the dataframes\n",
    "add_meta_information <- function(ct){\n",
    "    inp_df <- read.csv(paste0(root_dir,ct,\"/APAlog_res.tsv\"), sep='\\t')\n",
    "    inp_df <- inp_df %>% mutate(strand=gsub(\".*:.*:(.*)\",\"\\\\1\",ref_site)) %>%\n",
    "                mutate(multiplyer= ifelse(strand==\"+\",1,-1)) %>%\n",
    "                mutate(LFC_PA_Usage=b_ConditionALS_pathology*multiplyer) %>% \n",
    "                mutate(negative_logFDR=-log(fdr_p_devtest, base=10)) %>% \n",
    "                mutate(switch_width=as.numeric(gsub(\".*:(.*):.*\",\"\\\\1\",alt_site)) - as.numeric(gsub(\".*:(.*):.*\",\"\\\\1\",ref_site))) %>%\n",
    "                mutate(bed = paste0(gsub(\"(.*):.*:.*\",\"\\\\1\",ref_site), ',',\n",
    "                                    gsub(\".*:(.*):.*\",\"\\\\1\",ref_site), ',',\n",
    "                                    gsub(\".*:(.*):.*\",\"\\\\1\",alt_site)))\n",
    "    \n",
    "    ### correcting handful of cases where the proximal and distal positions are reversed in ref_site and Alt_sites\n",
    "\n",
    "    inp_df <- inp_df %>% mutate(correction_multiplyer = ifelse(switch_width <= -1, -1, 1)) %>%\n",
    "                         mutate(switch_width=switch_width*correction_multiplyer) %>%\n",
    "                         mutate(LFC_PA_Usage=LFC_PA_Usage*correction_multiplyer) %>%\n",
    "                         mutate(switch_name = ifelse(correction_multiplyer==-1, paste0(gsub(\"(.*):.*:.*\",\"\\\\1\",ref_site),':',\n",
    "                                                     transcript,\":\",gsub(\".*:(.*):.*\",\"\\\\1\",alt_site),\n",
    "                                                     ':',gsub(\".*:(.*):.*\",\"\\\\1\",ref_site),':',strand),\n",
    "                                                     paste0(gsub(\"(.*):.*:.*\",\"\\\\1\",ref_site),':',\n",
    "                                                     transcript,\":\",gsub(\".*:(.*):.*\",\"\\\\1\",ref_site),\n",
    "                                                     ':',gsub(\".*:(.*):.*\",\"\\\\1\",alt_site),':',strand)))\n",
    "    \n",
    "    outname <- paste0(root_dir,ct,\"/APAlog_res_metadata_added.tsv\")\n",
    "    print(outname)\n",
    "    write.table(inp_df, file=outname, quote=F, sep='\\t', row.names = F)\n",
    "    \n",
    "}\n",
    "# fdr thresholds from FDR analysis, added here and to be used after inital run for visualization and filtering\n",
    "fdr_thresholds = c(3.493186e-04, 1.061938e-06, 5.271816e-07, 1.910463e-05, 1.446201e-04,  1.825780e-05, 5.378499e-03, 2.278128e-04)\n",
    "cell_types = c(\"Astro\", \"Exc_deep\", \"Exc_int\", \"Exc_upper\", \"Inh\", \"Microglia\", \"Oligo\", \"OPC\")\n",
    "\n",
    "get_bed_files_2k <- function(ct){\n",
    "    inp_df <- read.csv(paste0(root_dir,ct,\"/APAlog_res_metadata_added.tsv\"), sep='\\t')\n",
    "    inp_df <- inp_df %>% filter(p_devtest < fdr_thresholds[cell_types == ct] )\n",
    "    # BY correct the p-values(p_ConditionALS_pathology)\n",
    "    inp_df <- inp_df %>% mutate(chr=gsub(\"(.*):.*:.*\",\"\\\\1\",ref_site)) %>%\n",
    "                          mutate(ref_start=as.character(as.numeric(gsub(\".*:(.*):.*\",\"\\\\1\",ref_site)) - 1000)) %>%\n",
    "                            mutate(ref_end=as.character(as.numeric(gsub(\".*:(.*):.*\",\"\\\\1\",ref_site)) + 1000)) %>% \n",
    "                            mutate(alt_start=as.character(as.numeric(gsub(\".*:(.*):.*\",\"\\\\1\",alt_site)) - 1000)) %>%\n",
    "                            mutate(alt_end=as.character(as.numeric(gsub(\".*:(.*):.*\",\"\\\\1\",alt_site)) + 1000)) %>%\n",
    "                            mutate(strand=gsub(\".*:.*:(.*)\",\"\\\\1\",ref_site))\n",
    "    \n",
    "    ref_df <- data.frame(inp_df['chr'],inp_df['ref_start'],inp_df['ref_end'],inp_df['switch_name'], inp_df['strand'])\n",
    "    alt_df <- data.frame(inp_df['chr'],inp_df['alt_start'],inp_df['alt_end'],inp_df['switch_name'],inp_df['strand'])\n",
    "    ref_outname <- paste0(root_dir,ct,\"/PAs_neighbour_region_ref_sequence_2k.bed\")\n",
    "    alt_outname <- paste0(root_dir,ct,\"/PAs_neighbour_region_alt_sequence_2k.bed\")\n",
    "    write.table(ref_df,file=ref_outname, sep='\\t', quote=F, row.names = F, col.names = F)\n",
    "    write.table(alt_df,file=alt_outname, sep='\\t', quote=F, row.names = F, col.names = F)}\n",
    "\n",
    "\n",
    "\n",
    "r <- mclapply(sub_cts, run_APAlog, mc.cores = 28)  \n",
    "r <- mclapply(sub_cts, add_meta_information, mc.cores = 28) \n",
    "r <- mclapply(sub_cts, get_bed_files_2k, mc.cores = 28)  \n"
   ]
  },
  {
   "cell_type": "code",
   "execution_count": null,
   "metadata": {},
   "outputs": [],
   "source": []
  }
 ],
 "metadata": {
  "kernelspec": {
   "display_name": "for_DL",
   "language": "python",
   "name": "python3"
  },
  "language_info": {
   "codemirror_mode": {
    "name": "ipython",
    "version": 3
   },
   "file_extension": ".py",
   "mimetype": "text/x-python",
   "name": "python",
   "nbconvert_exporter": "python",
   "pygments_lexer": "ipython3",
   "version": "3.8.8"
  }
 },
 "nbformat": 4,
 "nbformat_minor": 4
}
